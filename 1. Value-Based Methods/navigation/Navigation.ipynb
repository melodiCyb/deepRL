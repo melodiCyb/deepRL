{
 "cells": [
  {
   "cell_type": "markdown",
   "metadata": {},
   "source": [
    "# Navigation\n",
    "\n",
    "---\n",
    "\n",
    "You are welcome to use this coding environment to train your agent for the project.  Follow the instructions below to get started!\n",
    "\n",
    "### 1. Start the Environment\n",
    "\n",
    "Run the next code cell to install a few packages.  This line will take a few minutes to run!"
   ]
  },
  {
   "cell_type": "code",
   "execution_count": 1,
   "metadata": {},
   "outputs": [
    {
     "name": "stdout",
     "output_type": "stream",
     "text": [
      "\u001b[31mtensorflow 1.7.1 has requirement numpy>=1.13.3, but you'll have numpy 1.12.1 which is incompatible.\u001b[0m\r\n",
      "\u001b[31mipython 6.5.0 has requirement prompt-toolkit<2.0.0,>=1.0.15, but you'll have prompt-toolkit 3.0.8 which is incompatible.\u001b[0m\r\n"
     ]
    }
   ],
   "source": [
    "!pip -q install ./python"
   ]
  },
  {
   "cell_type": "markdown",
   "metadata": {},
   "source": [
    "The environment is already saved in the Workspace and can be accessed at the file path provided below.  Please run the next code cell without making any changes."
   ]
  },
  {
   "cell_type": "code",
   "execution_count": 2,
   "metadata": {},
   "outputs": [],
   "source": [
    "from collections import deque\n",
    "from dqn_agent import Agent"
   ]
  },
  {
   "cell_type": "code",
   "execution_count": 3,
   "metadata": {},
   "outputs": [],
   "source": [
    "import random\n",
    "import torch\n",
    "import matplotlib.pyplot as plt\n",
    "%matplotlib inline\n"
   ]
  },
  {
   "cell_type": "code",
   "execution_count": 4,
   "metadata": {},
   "outputs": [],
   "source": [
    "import torch.nn as nn"
   ]
  },
  {
   "cell_type": "code",
   "execution_count": 5,
   "metadata": {},
   "outputs": [
    {
     "name": "stderr",
     "output_type": "stream",
     "text": [
      "INFO:unityagents:\n",
      "'Academy' started successfully!\n",
      "Unity Academy name: Academy\n",
      "        Number of Brains: 1\n",
      "        Number of External Brains : 1\n",
      "        Lesson number : 0\n",
      "        Reset Parameters :\n",
      "\t\t\n",
      "Unity brain name: BananaBrain\n",
      "        Number of Visual Observations (per agent): 0\n",
      "        Vector Observation space type: continuous\n",
      "        Vector Observation space size (per agent): 37\n",
      "        Number of stacked Vector Observation: 1\n",
      "        Vector Action space type: discrete\n",
      "        Vector Action space size (per agent): 4\n",
      "        Vector Action descriptions: , , , \n"
     ]
    }
   ],
   "source": [
    "from unityagents import UnityEnvironment\n",
    "import numpy as np\n",
    "\n",
    "# please do not modify the line below\n",
    "env = UnityEnvironment(file_name=\"/data/Banana_Linux_NoVis/Banana.x86_64\")"
   ]
  },
  {
   "cell_type": "markdown",
   "metadata": {},
   "source": [
    "Environments contain **_brains_** which are responsible for deciding the actions of their associated agents. Here we check for the first brain available, and set it as the default brain we will be controlling from Python."
   ]
  },
  {
   "cell_type": "code",
   "execution_count": 6,
   "metadata": {},
   "outputs": [],
   "source": [
    "# get the default brain\n",
    "brain_name = env.brain_names[0]\n",
    "brain = env.brains[brain_name]"
   ]
  },
  {
   "cell_type": "markdown",
   "metadata": {},
   "source": [
    "### 2. Examine the State and Action Spaces\n",
    "\n",
    "Run the code cell below to print some information about the environment."
   ]
  },
  {
   "cell_type": "code",
   "execution_count": 7,
   "metadata": {},
   "outputs": [
    {
     "name": "stdout",
     "output_type": "stream",
     "text": [
      "Number of agents: 1\n",
      "Number of actions: 4\n",
      "States look like: [ 1.          0.          0.          0.          0.84408134  0.          0.\n",
      "  1.          0.          0.0748472   0.          1.          0.          0.\n",
      "  0.25755     1.          0.          0.          0.          0.74177343\n",
      "  0.          1.          0.          0.          0.25854847  0.          0.\n",
      "  1.          0.          0.09355672  0.          1.          0.          0.\n",
      "  0.31969345  0.          0.        ]\n",
      "States have length: 37\n"
     ]
    }
   ],
   "source": [
    "# reset the environment\n",
    "env_info = env.reset(train_mode=True)[brain_name]\n",
    "\n",
    "# number of agents in the environment\n",
    "print('Number of agents:', len(env_info.agents))\n",
    "\n",
    "# number of actions\n",
    "action_size = brain.vector_action_space_size\n",
    "print('Number of actions:', action_size)\n",
    "\n",
    "# examine the state space \n",
    "state = env_info.vector_observations[0]\n",
    "print('States look like:', state)\n",
    "state_size = len(state)\n",
    "print('States have length:', state_size)"
   ]
  },
  {
   "cell_type": "code",
   "execution_count": 8,
   "metadata": {},
   "outputs": [
    {
     "data": {
      "text/plain": [
       "(37,)"
      ]
     },
     "execution_count": 8,
     "metadata": {},
     "output_type": "execute_result"
    }
   ],
   "source": [
    "state.shape"
   ]
  },
  {
   "cell_type": "markdown",
   "metadata": {},
   "source": [
    "### 4. It's Your Turn!\n",
    "\n",
    "Now it's your turn to train your own agent to solve the environment!  A few **important notes**:\n",
    "- When training the environment, set `train_mode=True`, so that the line for resetting the environment looks like the following:\n",
    "```python\n",
    "env_info = env.reset(train_mode=True)[brain_name]\n",
    "```\n",
    "- To structure your work, you're welcome to work directly in this Jupyter notebook, or you might like to start over with a new file!  You can see the list of files in the workspace by clicking on **_Jupyter_** in the top left corner of the notebook.\n",
    "- In this coding environment, you will not be able to watch the agent while it is training.  However, **_after training the agent_**, you can download the saved model weights to watch the agent on your own machine! "
   ]
  },
  {
   "cell_type": "code",
   "execution_count": 9,
   "metadata": {},
   "outputs": [],
   "source": [
    "agent = Agent(state_size=state_size, action_size=action_size, seed=123)"
   ]
  },
  {
   "cell_type": "code",
   "execution_count": 10,
   "metadata": {},
   "outputs": [
    {
     "name": "stdout",
     "output_type": "stream",
     "text": [
      "Episode 100\tAverage Score: 0.13\n",
      "Episode 200\tAverage Score: 3.90\n",
      "Episode 300\tAverage Score: 7.54\n",
      "Episode 400\tAverage Score: 10.07\n",
      "Episode 500\tAverage Score: 10.89\n",
      "Episode 600\tAverage Score: 12.61\n",
      "Episode 615\tAverage Score: 13.06\n",
      "Environment solved in 515 episodes!\tAverage Score: 13.06\n"
     ]
    },
    {
     "data": {
      "image/png": "[encoded data removed]",
      "text/plain": [
       "<matplotlib.figure.Figure at 0x7f0967dbeba8>"
      ]
     },
     "metadata": {
      "needs_background": "light"
     },
     "output_type": "display_data"
    }
   ],
   "source": [
    "def dqn(n_episodes=1800, max_t=1000, eps_start=1.0, eps_end=0.01, eps_decay=0.995):\n",
    "    \"\"\"Deep Q-Learning.\n",
    "    \n",
    "    Params\n",
    "    ======\n",
    "        n_episodes (int): maximum number of training episodes\n",
    "        max_t (int): maximum number of timesteps per episode\n",
    "        eps_start (float): starting value of epsilon, for epsilon-greedy action selection\n",
    "        eps_end (float): minimum value of epsilon\n",
    "        eps_decay (float): multiplicative factor (per episode) for decreasing epsilon\n",
    "    \"\"\"\n",
    "    scores = []                        # list containing scores from each episode\n",
    "    scores_window = deque(maxlen=100)  # last 100 scores\n",
    "    eps = eps_start                    # initialize epsilon\n",
    "    for i_episode in range(1, n_episodes+1):\n",
    "        env_info = env.reset(train_mode=True)[brain_name] # reset the environment\n",
    "        state = env_info.vector_observations[0]         \n",
    "        score = 0\n",
    "        for t in range(max_t):\n",
    "            action = agent.act(state, eps)\n",
    "            env_info = env.step(action)[brain_name]\n",
    "            next_state = env_info.vector_observations[0]   # get the next state\n",
    "            reward = env_info.rewards[0]                   # get the reward\n",
    "            done = env_info.local_done[0]                  # see if episode has finished\n",
    "      \n",
    "            agent.step(state, action, reward, next_state, done)\n",
    "            state = next_state  # roll over the state to next time step\n",
    "            score += reward  # update the score\n",
    "            if done:  # exit loop if episode finished\n",
    "                break \n",
    "        scores_window.append(score)       # save most recent score\n",
    "        scores.append(score)              # save most recent score\n",
    "        eps = max(eps_end, eps_decay*eps) # decrease epsilon\n",
    "        print('\\rEpisode {}\\tAverage Score: {:.2f}'.format(i_episode, np.mean(scores_window)), end=\"\")\n",
    "        if i_episode % 100 == 0:\n",
    "            print('\\rEpisode {}\\tAverage Score: {:.2f}'.format(i_episode, np.mean(scores_window)))\n",
    "        if np.mean(scores_window) >= 13.0:\n",
    "            print('\\nEnvironment solved in {:d} episodes!\\tAverage Score: {:.2f}'.format(i_episode-100, np.mean(scores_window)))\n",
    "            torch.save(agent.qnetwork_local.state_dict(), 'checkpoint2.pth')\n",
    "            break\n",
    "    return scores\n",
    "\n",
    "scores = dqn()\n",
    "\n",
    "# plot the scores\n",
    "fig = plt.figure()\n",
    "ax = fig.add_subplot(111)\n",
    "plt.plot(np.arange(len(scores)), scores)\n",
    "plt.ylabel('Score')\n",
    "plt.xlabel('Episode #')\n",
    "plt.show()"
   ]
  },
  {
   "cell_type": "code",
   "execution_count": 11,
   "metadata": {},
   "outputs": [
    {
     "data": {
      "text/plain": [
       "OrderedDict([('fc1.weight',\n",
       "              tensor([[-1.2865e-01, -7.7868e-02, -2.0019e-02,  ...,  1.9984e-01,\n",
       "                        4.9939e-02, -3.5081e-02],\n",
       "                      [ 3.3847e-02, -1.7539e-01, -9.5612e-02,  ...,  1.8094e-01,\n",
       "                       -7.3840e-02, -1.2062e-01],\n",
       "                      [-4.0929e-02,  1.1869e-01,  1.2655e-01,  ...,  1.2414e-01,\n",
       "                        6.9094e-03,  1.0467e-02],\n",
       "                      ...,\n",
       "                      [ 1.8071e-01,  1.8567e-01, -7.9050e-03,  ..., -7.5443e-02,\n",
       "                       -9.1936e-03,  1.6592e-02],\n",
       "                      [ 1.5076e-01,  1.7236e-01,  1.4206e-01,  ..., -5.6483e-02,\n",
       "                       -5.8838e-02, -5.5937e-02],\n",
       "                      [-1.3359e-01, -8.0293e-03, -9.5984e-02,  ..., -1.2067e-01,\n",
       "                        4.9063e-02,  1.7846e-02]], device='cuda:0')),\n",
       "             ('fc1.bias',\n",
       "              tensor([ 0.0781, -0.1594, -0.1688, -0.1818,  0.3526, -0.1660, -0.0342,\n",
       "                      -0.1745, -0.0991, -0.1721,  0.1584,  0.0017,  0.0875, -0.1189,\n",
       "                       0.0391,  0.3217,  0.0424, -0.1410,  0.0245, -0.0327,  0.0052,\n",
       "                       0.0797,  0.0754,  0.1975, -0.2648, -0.0346, -0.1219,  0.0029,\n",
       "                       0.0687,  0.1924, -0.0026,  0.4012,  0.0875,  0.0274, -0.0557,\n",
       "                      -0.1161, -0.0684, -0.2028, -0.0518,  0.2735,  0.0410,  0.0461,\n",
       "                       0.0501,  0.3704,  0.0757,  0.3768,  0.0677,  0.0909, -0.0470,\n",
       "                      -0.1977, -0.1998, -0.1097,  0.2247,  0.2515, -0.0485, -0.1183,\n",
       "                       0.0674, -0.0794, -0.0951,  0.0839, -0.0353,  0.0317,  0.1469,\n",
       "                      -0.0689], device='cuda:0')),\n",
       "             ('fc2.weight',\n",
       "              tensor([[ 0.0136, -0.0710,  0.0863,  0.4253,  0.1600,  0.0858, -0.0114,\n",
       "                       -0.1326,  0.2299, -0.0305,  0.0513,  0.0990,  0.3777,  0.3336,\n",
       "                       -0.0029,  0.1137,  0.0263,  0.4534, -0.3548,  0.1412,  0.2568,\n",
       "                        0.0461,  0.0647,  0.1325,  0.0968, -0.1974, -0.4789,  0.0923,\n",
       "                       -0.1276,  0.0514, -0.1273,  0.1536, -0.0305,  0.6555,  0.2012,\n",
       "                       -0.4017,  0.4475, -0.0117,  0.3012,  0.1287, -0.0301,  0.0306,\n",
       "                        0.4054,  0.0983, -0.0242,  0.2021,  0.1061, -0.1995, -0.0263,\n",
       "                       -0.0005,  0.0375, -0.0016,  0.1306,  0.0734, -0.2636,  0.3825,\n",
       "                       -0.2020,  0.0050, -0.3544, -0.0420, -0.0519,  0.0766,  0.0690,\n",
       "                       -0.0680],\n",
       "                      [-0.0036, -0.0786,  0.0156,  0.5483,  0.1588,  0.0806, -0.0131,\n",
       "                       -0.1478,  0.4498,  0.0113,  0.0782,  0.0391,  0.4055,  0.3761,\n",
       "                        0.0408,  0.1197,  0.0270,  0.5444, -0.3043,  0.1553,  0.2540,\n",
       "                        0.0078,  0.1313,  0.0871, -0.0286, -0.1824, -0.1047,  0.0835,\n",
       "                       -0.1245,  0.0563, -0.1967,  0.1414, -0.0039,  0.5763,  0.2544,\n",
       "                       -0.0458,  0.4077, -0.0054,  0.3748,  0.1261, -0.0197,  0.0685,\n",
       "                        0.3282,  0.1404,  0.0269,  0.2103,  0.2724, -0.1645, -0.0422,\n",
       "                       -0.0412, -0.0153,  0.0066,  0.1272,  0.0978, -0.1894,  0.2667,\n",
       "                       -0.1779, -0.0938, -0.5465, -0.0472, -0.0903,  0.0736,  0.0866,\n",
       "                       -0.0370],\n",
       "                      [ 0.1478, -0.0218, -0.0259,  0.9422,  0.1782, -0.2102, -0.0620,\n",
       "                       -0.3086,  0.5007,  0.0779,  0.0985, -0.0531,  0.3447,  0.1545,\n",
       "                        0.0722,  0.0730,  0.1165,  0.1466, -0.2402,  0.2078,  0.2277,\n",
       "                       -0.0256,  0.0610,  0.1086, -0.0898, -0.0789, -0.3232,  0.1012,\n",
       "                       -0.2397,  0.0756, -0.1146,  0.1610, -0.1429,  0.2735,  0.3738,\n",
       "                       -0.4288,  0.5705, -0.0971,  0.6972,  0.1050, -0.0482,  0.0898,\n",
       "                        0.4183,  0.1386, -0.0910,  0.1823,  0.1661,  0.0995, -0.0212,\n",
       "                       -0.2462, -0.2139,  0.2484,  0.1902,  0.0839, -0.1286,  0.0230,\n",
       "                       -0.2786, -0.0444, -0.0554, -0.0708, -0.1159, -0.0034,  0.1239,\n",
       "                        0.0157],\n",
       "                      [ 0.0671,  0.0195, -0.1309,  0.3682,  0.1505, -0.0925, -0.0116,\n",
       "                       -0.0821, -0.0177,  0.0441,  0.0368, -0.0343,  0.5410,  0.4272,\n",
       "                        0.0295,  0.1578,  0.1174,  0.7083, -0.1591,  0.1282,  0.6041,\n",
       "                       -0.0609,  0.5368,  0.1324, -0.1882, -0.1967, -0.1170,  0.0838,\n",
       "                       -0.0137,  0.0782, -0.2722,  0.1186, -0.0498,  0.2550,  0.0028,\n",
       "                       -0.1952,  0.3033,  0.0424,  0.1133,  0.1002, -0.0094,  0.0936,\n",
       "                        0.3659,  0.1247, -0.0269,  0.1598,  0.4884, -0.1870, -0.0666,\n",
       "                       -0.0327, -0.1913,  0.0158,  0.1054,  0.0746, -0.2444, -0.1024,\n",
       "                       -0.0820, -0.1211, -0.4664, -0.0650, -0.0920,  0.0825,  0.0293,\n",
       "                       -0.0112]], device='cuda:0')),\n",
       "             ('fc2.bias',\n",
       "              tensor([ 0.2583,  0.0904,  0.1263,  0.2694], device='cuda:0'))])"
      ]
     },
     "execution_count": 11,
     "metadata": {},
     "output_type": "execute_result"
    }
   ],
   "source": [
    "agent.qnetwork_local.state_dict(torch.load('checkpoint2.pth'))"
   ]
  },
  {
   "cell_type": "code",
   "execution_count": 12,
   "metadata": {},
   "outputs": [
    {
     "name": "stdout",
     "output_type": "stream",
     "text": [
      "Score: 5.0\n"
     ]
    }
   ],
   "source": [
    "env_info = env.reset(train_mode=False)[brain_name] # reset the environment\n",
    "state = env_info.vector_observations[0]            # get the current state\n",
    "score = 0                                          # initialize the score\n",
    "while True:\n",
    "    action = agent.act(state)       # select an action\n",
    "    env_info = env.step(action)[brain_name]        # send the action to the environment\n",
    "    next_state = env_info.vector_observations[0]   # get the next state\n",
    "    reward = env_info.rewards[0]                   # get the reward\n",
    "    done = env_info.local_done[0]                  # see if episode has finished\n",
    "    score += reward                                # update the score\n",
    "    state = next_state                             # roll over the state to next time step\n",
    "    if done:                                       # exit loop if episode finished\n",
    "        break\n",
    "    \n",
    "print(\"Score: {}\".format(score))"
   ]
  },
  {
   "cell_type": "markdown",
   "metadata": {},
   "source": [
    "When finished, you can close the environment."
   ]
  },
  {
   "cell_type": "code",
   "execution_count": 13,
   "metadata": {},
   "outputs": [],
   "source": [
    "env.close()"
   ]
  },
  {
   "cell_type": "markdown",
   "metadata": {},
   "source": [
    "## Next Steps \n",
    "\n",
    "* Implement a double DQN, a dueling DQN, and/or prioritized experience replay!\n",
    "* Try to train an agent from raw pixels!\n"
   ]
  }
 ],
 "metadata": {
  "kernelspec": {
   "display_name": "Python 3",
   "language": "python",
   "name": "python3"
  },
  "language_info": {
   "codemirror_mode": {
    "name": "ipython",
    "version": 3
   },
   "file_extension": ".py",
   "mimetype": "text/x-python",
   "name": "python",
   "nbconvert_exporter": "python",
   "pygments_lexer": "ipython3",
   "version": "3.6.3"
  }
 },
 "nbformat": 4,
 "nbformat_minor": 2
}
